{
  "cells": [
    {
      "cell_type": "markdown",
      "metadata": {
        "id": "KlyhGsph2Fid"
      },
      "source": [
        "# 딥러닝분석_(1)LSTM주가분석"
      ]
    },
    {
      "cell_type": "code",
      "execution_count": null,
      "metadata": {
        "scrolled": true,
        "colab": {
          "base_uri": "https://localhost:8080/"
        },
        "id": "qkNo_axwpfmF",
        "outputId": "abd618cf-228a-4129-d445-7f5ea2d2022b"
      },
      "outputs": [
        {
          "output_type": "stream",
          "name": "stdout",
          "text": [
            "Requirement already satisfied: yfinance in /usr/local/lib/python3.11/dist-packages (0.2.61)\n",
            "Requirement already satisfied: pandas>=1.3.0 in /usr/local/lib/python3.11/dist-packages (from yfinance) (2.2.2)\n",
            "Requirement already satisfied: numpy>=1.16.5 in /usr/local/lib/python3.11/dist-packages (from yfinance) (2.0.2)\n",
            "Requirement already satisfied: requests>=2.31 in /usr/local/lib/python3.11/dist-packages (from yfinance) (2.32.3)\n",
            "Requirement already satisfied: multitasking>=0.0.7 in /usr/local/lib/python3.11/dist-packages (from yfinance) (0.0.11)\n",
            "Requirement already satisfied: platformdirs>=2.0.0 in /usr/local/lib/python3.11/dist-packages (from yfinance) (4.3.8)\n",
            "Requirement already satisfied: pytz>=2022.5 in /usr/local/lib/python3.11/dist-packages (from yfinance) (2025.2)\n",
            "Requirement already satisfied: frozendict>=2.3.4 in /usr/local/lib/python3.11/dist-packages (from yfinance) (2.4.6)\n",
            "Requirement already satisfied: peewee>=3.16.2 in /usr/local/lib/python3.11/dist-packages (from yfinance) (3.18.1)\n",
            "Requirement already satisfied: beautifulsoup4>=4.11.1 in /usr/local/lib/python3.11/dist-packages (from yfinance) (4.13.4)\n",
            "Requirement already satisfied: curl_cffi>=0.7 in /usr/local/lib/python3.11/dist-packages (from yfinance) (0.11.1)\n",
            "Requirement already satisfied: protobuf>=3.19.0 in /usr/local/lib/python3.11/dist-packages (from yfinance) (5.29.5)\n",
            "Requirement already satisfied: websockets>=13.0 in /usr/local/lib/python3.11/dist-packages (from yfinance) (15.0.1)\n",
            "Requirement already satisfied: soupsieve>1.2 in /usr/local/lib/python3.11/dist-packages (from beautifulsoup4>=4.11.1->yfinance) (2.7)\n",
            "Requirement already satisfied: typing-extensions>=4.0.0 in /usr/local/lib/python3.11/dist-packages (from beautifulsoup4>=4.11.1->yfinance) (4.13.2)\n",
            "Requirement already satisfied: cffi>=1.12.0 in /usr/local/lib/python3.11/dist-packages (from curl_cffi>=0.7->yfinance) (1.17.1)\n",
            "Requirement already satisfied: certifi>=2024.2.2 in /usr/local/lib/python3.11/dist-packages (from curl_cffi>=0.7->yfinance) (2025.4.26)\n",
            "Requirement already satisfied: python-dateutil>=2.8.2 in /usr/local/lib/python3.11/dist-packages (from pandas>=1.3.0->yfinance) (2.9.0.post0)\n",
            "Requirement already satisfied: tzdata>=2022.7 in /usr/local/lib/python3.11/dist-packages (from pandas>=1.3.0->yfinance) (2025.2)\n",
            "Requirement already satisfied: charset-normalizer<4,>=2 in /usr/local/lib/python3.11/dist-packages (from requests>=2.31->yfinance) (3.4.2)\n",
            "Requirement already satisfied: idna<4,>=2.5 in /usr/local/lib/python3.11/dist-packages (from requests>=2.31->yfinance) (3.10)\n",
            "Requirement already satisfied: urllib3<3,>=1.21.1 in /usr/local/lib/python3.11/dist-packages (from requests>=2.31->yfinance) (2.4.0)\n",
            "Requirement already satisfied: pycparser in /usr/local/lib/python3.11/dist-packages (from cffi>=1.12.0->curl_cffi>=0.7->yfinance) (2.22)\n",
            "Requirement already satisfied: six>=1.5 in /usr/local/lib/python3.11/dist-packages (from python-dateutil>=2.8.2->pandas>=1.3.0->yfinance) (1.17.0)\n"
          ]
        }
      ],
      "source": [
        "# 주가 데이터를 다운로드 받기 위해서 야후 파이낸스 라이브러리 설치\n",
        "!pip install yfinance"
      ]
    },
    {
      "cell_type": "markdown",
      "metadata": {
        "id": "Xl6h19XGpfmG"
      },
      "source": [
        "# 1. 데이터 수집"
      ]
    },
    {
      "cell_type": "code",
      "execution_count": null,
      "metadata": {
        "id": "ImgFQHvz2XBY"
      },
      "outputs": [],
      "source": [
        "import pandas as pd\n",
        "import numpy as np\n",
        "import yfinance as yf"
      ]
    },
    {
      "cell_type": "markdown",
      "metadata": {
        "id": "qEnFut4qpfmG"
      },
      "source": [
        "### - 기업 주가 데이터를 다운로드하여 데이터프레임으로 저장"
      ]
    },
    {
      "cell_type": "code",
      "execution_count": null,
      "metadata": {
        "id": "f9T1DxySpfmG"
      },
      "outputs": [],
      "source": [
        "name = 'GOOG'  #종목명 -구글\n",
        "\n",
        "start_day = '2021-01-01'\n",
        "end_day = '2024-08-01'"
      ]
    },
    {
      "cell_type": "code",
      "execution_count": null,
      "metadata": {
        "colab": {
          "base_uri": "https://localhost:8080/"
        },
        "id": "5M6iNSi0pfmG",
        "outputId": "d7e0b15e-75ab-4ccb-f337-4d341b464309"
      },
      "outputs": [
        {
          "output_type": "stream",
          "name": "stdout",
          "text": [
            "YF.download() has changed argument auto_adjust default to True\n"
          ]
        },
        {
          "output_type": "stream",
          "name": "stderr",
          "text": [
            "\r[*********************100%***********************]  1 of 1 completed\n"
          ]
        }
      ],
      "source": [
        "stock = yf.download(name, start=start_day, end=end_day)"
      ]
    },
    {
      "cell_type": "code",
      "execution_count": null,
      "metadata": {
        "colab": {
          "base_uri": "https://localhost:8080/",
          "height": 286
        },
        "id": "utsc6Z1SpfmH",
        "outputId": "23de1570-4f3e-48c6-bdbc-e07187f96e02"
      },
      "outputs": [
        {
          "output_type": "stream",
          "name": "stdout",
          "text": [
            "(899, 5)\n"
          ]
        },
        {
          "output_type": "execute_result",
          "data": {
            "text/plain": [
              "Price           Close       High        Low       Open    Volume\n",
              "Ticker           GOOG       GOOG       GOOG       GOOG      GOOG\n",
              "Date                                                            \n",
              "2021-01-04  86.004646  87.617506  84.989952  87.462736  38038000\n",
              "2021-01-05  86.635658  86.971569  85.495809  85.843413  22906000\n",
              "2021-01-06  86.355476  86.987979  84.549524  84.730171  52042000\n",
              "2021-01-07  88.941231  88.998455  86.443061  86.592849  45300000\n",
              "2021-01-08  89.934532  90.065413  88.258723  88.977570  41012000"
            ],
            "text/html": [
              "\n",
              "  <div id=\"df-465c4ca2-d9e7-4c5f-9613-9d1af420672d\" class=\"colab-df-container\">\n",
              "    <div>\n",
              "<style scoped>\n",
              "    .dataframe tbody tr th:only-of-type {\n",
              "        vertical-align: middle;\n",
              "    }\n",
              "\n",
              "    .dataframe tbody tr th {\n",
              "        vertical-align: top;\n",
              "    }\n",
              "\n",
              "    .dataframe thead tr th {\n",
              "        text-align: left;\n",
              "    }\n",
              "\n",
              "    .dataframe thead tr:last-of-type th {\n",
              "        text-align: right;\n",
              "    }\n",
              "</style>\n",
              "<table border=\"1\" class=\"dataframe\">\n",
              "  <thead>\n",
              "    <tr>\n",
              "      <th>Price</th>\n",
              "      <th>Close</th>\n",
              "      <th>High</th>\n",
              "      <th>Low</th>\n",
              "      <th>Open</th>\n",
              "      <th>Volume</th>\n",
              "    </tr>\n",
              "    <tr>\n",
              "      <th>Ticker</th>\n",
              "      <th>GOOG</th>\n",
              "      <th>GOOG</th>\n",
              "      <th>GOOG</th>\n",
              "      <th>GOOG</th>\n",
              "      <th>GOOG</th>\n",
              "    </tr>\n",
              "    <tr>\n",
              "      <th>Date</th>\n",
              "      <th></th>\n",
              "      <th></th>\n",
              "      <th></th>\n",
              "      <th></th>\n",
              "      <th></th>\n",
              "    </tr>\n",
              "  </thead>\n",
              "  <tbody>\n",
              "    <tr>\n",
              "      <th>2021-01-04</th>\n",
              "      <td>86.004646</td>\n",
              "      <td>87.617506</td>\n",
              "      <td>84.989952</td>\n",
              "      <td>87.462736</td>\n",
              "      <td>38038000</td>\n",
              "    </tr>\n",
              "    <tr>\n",
              "      <th>2021-01-05</th>\n",
              "      <td>86.635658</td>\n",
              "      <td>86.971569</td>\n",
              "      <td>85.495809</td>\n",
              "      <td>85.843413</td>\n",
              "      <td>22906000</td>\n",
              "    </tr>\n",
              "    <tr>\n",
              "      <th>2021-01-06</th>\n",
              "      <td>86.355476</td>\n",
              "      <td>86.987979</td>\n",
              "      <td>84.549524</td>\n",
              "      <td>84.730171</td>\n",
              "      <td>52042000</td>\n",
              "    </tr>\n",
              "    <tr>\n",
              "      <th>2021-01-07</th>\n",
              "      <td>88.941231</td>\n",
              "      <td>88.998455</td>\n",
              "      <td>86.443061</td>\n",
              "      <td>86.592849</td>\n",
              "      <td>45300000</td>\n",
              "    </tr>\n",
              "    <tr>\n",
              "      <th>2021-01-08</th>\n",
              "      <td>89.934532</td>\n",
              "      <td>90.065413</td>\n",
              "      <td>88.258723</td>\n",
              "      <td>88.977570</td>\n",
              "      <td>41012000</td>\n",
              "    </tr>\n",
              "  </tbody>\n",
              "</table>\n",
              "</div>\n",
              "    <div class=\"colab-df-buttons\">\n",
              "\n",
              "  <div class=\"colab-df-container\">\n",
              "    <button class=\"colab-df-convert\" onclick=\"convertToInteractive('df-465c4ca2-d9e7-4c5f-9613-9d1af420672d')\"\n",
              "            title=\"Convert this dataframe to an interactive table.\"\n",
              "            style=\"display:none;\">\n",
              "\n",
              "  <svg xmlns=\"http://www.w3.org/2000/svg\" height=\"24px\" viewBox=\"0 -960 960 960\">\n",
              "    <path d=\"M120-120v-720h720v720H120Zm60-500h600v-160H180v160Zm220 220h160v-160H400v160Zm0 220h160v-160H400v160ZM180-400h160v-160H180v160Zm440 0h160v-160H620v160ZM180-180h160v-160H180v160Zm440 0h160v-160H620v160Z\"/>\n",
              "  </svg>\n",
              "    </button>\n",
              "\n",
              "  <style>\n",
              "    .colab-df-container {\n",
              "      display:flex;\n",
              "      gap: 12px;\n",
              "    }\n",
              "\n",
              "    .colab-df-convert {\n",
              "      background-color: #E8F0FE;\n",
              "      border: none;\n",
              "      border-radius: 50%;\n",
              "      cursor: pointer;\n",
              "      display: none;\n",
              "      fill: #1967D2;\n",
              "      height: 32px;\n",
              "      padding: 0 0 0 0;\n",
              "      width: 32px;\n",
              "    }\n",
              "\n",
              "    .colab-df-convert:hover {\n",
              "      background-color: #E2EBFA;\n",
              "      box-shadow: 0px 1px 2px rgba(60, 64, 67, 0.3), 0px 1px 3px 1px rgba(60, 64, 67, 0.15);\n",
              "      fill: #174EA6;\n",
              "    }\n",
              "\n",
              "    .colab-df-buttons div {\n",
              "      margin-bottom: 4px;\n",
              "    }\n",
              "\n",
              "    [theme=dark] .colab-df-convert {\n",
              "      background-color: #3B4455;\n",
              "      fill: #D2E3FC;\n",
              "    }\n",
              "\n",
              "    [theme=dark] .colab-df-convert:hover {\n",
              "      background-color: #434B5C;\n",
              "      box-shadow: 0px 1px 3px 1px rgba(0, 0, 0, 0.15);\n",
              "      filter: drop-shadow(0px 1px 2px rgba(0, 0, 0, 0.3));\n",
              "      fill: #FFFFFF;\n",
              "    }\n",
              "  </style>\n",
              "\n",
              "    <script>\n",
              "      const buttonEl =\n",
              "        document.querySelector('#df-465c4ca2-d9e7-4c5f-9613-9d1af420672d button.colab-df-convert');\n",
              "      buttonEl.style.display =\n",
              "        google.colab.kernel.accessAllowed ? 'block' : 'none';\n",
              "\n",
              "      async function convertToInteractive(key) {\n",
              "        const element = document.querySelector('#df-465c4ca2-d9e7-4c5f-9613-9d1af420672d');\n",
              "        const dataTable =\n",
              "          await google.colab.kernel.invokeFunction('convertToInteractive',\n",
              "                                                    [key], {});\n",
              "        if (!dataTable) return;\n",
              "\n",
              "        const docLinkHtml = 'Like what you see? Visit the ' +\n",
              "          '<a target=\"_blank\" href=https://colab.research.google.com/notebooks/data_table.ipynb>data table notebook</a>'\n",
              "          + ' to learn more about interactive tables.';\n",
              "        element.innerHTML = '';\n",
              "        dataTable['output_type'] = 'display_data';\n",
              "        await google.colab.output.renderOutput(dataTable, element);\n",
              "        const docLink = document.createElement('div');\n",
              "        docLink.innerHTML = docLinkHtml;\n",
              "        element.appendChild(docLink);\n",
              "      }\n",
              "    </script>\n",
              "  </div>\n",
              "\n",
              "\n",
              "    <div id=\"df-27e6dc71-2786-47ca-9ecf-f8180c14182f\">\n",
              "      <button class=\"colab-df-quickchart\" onclick=\"quickchart('df-27e6dc71-2786-47ca-9ecf-f8180c14182f')\"\n",
              "                title=\"Suggest charts\"\n",
              "                style=\"display:none;\">\n",
              "\n",
              "<svg xmlns=\"http://www.w3.org/2000/svg\" height=\"24px\"viewBox=\"0 0 24 24\"\n",
              "     width=\"24px\">\n",
              "    <g>\n",
              "        <path d=\"M19 3H5c-1.1 0-2 .9-2 2v14c0 1.1.9 2 2 2h14c1.1 0 2-.9 2-2V5c0-1.1-.9-2-2-2zM9 17H7v-7h2v7zm4 0h-2V7h2v10zm4 0h-2v-4h2v4z\"/>\n",
              "    </g>\n",
              "</svg>\n",
              "      </button>\n",
              "\n",
              "<style>\n",
              "  .colab-df-quickchart {\n",
              "      --bg-color: #E8F0FE;\n",
              "      --fill-color: #1967D2;\n",
              "      --hover-bg-color: #E2EBFA;\n",
              "      --hover-fill-color: #174EA6;\n",
              "      --disabled-fill-color: #AAA;\n",
              "      --disabled-bg-color: #DDD;\n",
              "  }\n",
              "\n",
              "  [theme=dark] .colab-df-quickchart {\n",
              "      --bg-color: #3B4455;\n",
              "      --fill-color: #D2E3FC;\n",
              "      --hover-bg-color: #434B5C;\n",
              "      --hover-fill-color: #FFFFFF;\n",
              "      --disabled-bg-color: #3B4455;\n",
              "      --disabled-fill-color: #666;\n",
              "  }\n",
              "\n",
              "  .colab-df-quickchart {\n",
              "    background-color: var(--bg-color);\n",
              "    border: none;\n",
              "    border-radius: 50%;\n",
              "    cursor: pointer;\n",
              "    display: none;\n",
              "    fill: var(--fill-color);\n",
              "    height: 32px;\n",
              "    padding: 0;\n",
              "    width: 32px;\n",
              "  }\n",
              "\n",
              "  .colab-df-quickchart:hover {\n",
              "    background-color: var(--hover-bg-color);\n",
              "    box-shadow: 0 1px 2px rgba(60, 64, 67, 0.3), 0 1px 3px 1px rgba(60, 64, 67, 0.15);\n",
              "    fill: var(--button-hover-fill-color);\n",
              "  }\n",
              "\n",
              "  .colab-df-quickchart-complete:disabled,\n",
              "  .colab-df-quickchart-complete:disabled:hover {\n",
              "    background-color: var(--disabled-bg-color);\n",
              "    fill: var(--disabled-fill-color);\n",
              "    box-shadow: none;\n",
              "  }\n",
              "\n",
              "  .colab-df-spinner {\n",
              "    border: 2px solid var(--fill-color);\n",
              "    border-color: transparent;\n",
              "    border-bottom-color: var(--fill-color);\n",
              "    animation:\n",
              "      spin 1s steps(1) infinite;\n",
              "  }\n",
              "\n",
              "  @keyframes spin {\n",
              "    0% {\n",
              "      border-color: transparent;\n",
              "      border-bottom-color: var(--fill-color);\n",
              "      border-left-color: var(--fill-color);\n",
              "    }\n",
              "    20% {\n",
              "      border-color: transparent;\n",
              "      border-left-color: var(--fill-color);\n",
              "      border-top-color: var(--fill-color);\n",
              "    }\n",
              "    30% {\n",
              "      border-color: transparent;\n",
              "      border-left-color: var(--fill-color);\n",
              "      border-top-color: var(--fill-color);\n",
              "      border-right-color: var(--fill-color);\n",
              "    }\n",
              "    40% {\n",
              "      border-color: transparent;\n",
              "      border-right-color: var(--fill-color);\n",
              "      border-top-color: var(--fill-color);\n",
              "    }\n",
              "    60% {\n",
              "      border-color: transparent;\n",
              "      border-right-color: var(--fill-color);\n",
              "    }\n",
              "    80% {\n",
              "      border-color: transparent;\n",
              "      border-right-color: var(--fill-color);\n",
              "      border-bottom-color: var(--fill-color);\n",
              "    }\n",
              "    90% {\n",
              "      border-color: transparent;\n",
              "      border-bottom-color: var(--fill-color);\n",
              "    }\n",
              "  }\n",
              "</style>\n",
              "\n",
              "      <script>\n",
              "        async function quickchart(key) {\n",
              "          const quickchartButtonEl =\n",
              "            document.querySelector('#' + key + ' button');\n",
              "          quickchartButtonEl.disabled = true;  // To prevent multiple clicks.\n",
              "          quickchartButtonEl.classList.add('colab-df-spinner');\n",
              "          try {\n",
              "            const charts = await google.colab.kernel.invokeFunction(\n",
              "                'suggestCharts', [key], {});\n",
              "          } catch (error) {\n",
              "            console.error('Error during call to suggestCharts:', error);\n",
              "          }\n",
              "          quickchartButtonEl.classList.remove('colab-df-spinner');\n",
              "          quickchartButtonEl.classList.add('colab-df-quickchart-complete');\n",
              "        }\n",
              "        (() => {\n",
              "          let quickchartButtonEl =\n",
              "            document.querySelector('#df-27e6dc71-2786-47ca-9ecf-f8180c14182f button');\n",
              "          quickchartButtonEl.style.display =\n",
              "            google.colab.kernel.accessAllowed ? 'block' : 'none';\n",
              "        })();\n",
              "      </script>\n",
              "    </div>\n",
              "\n",
              "    </div>\n",
              "  </div>\n"
            ],
            "application/vnd.google.colaboratory.intrinsic+json": {
              "type": "dataframe",
              "variable_name": "stock",
              "summary": "{\n  \"name\": \"stock\",\n  \"rows\": 899,\n  \"fields\": [\n    {\n      \"column\": [\n        \"Date\",\n        \"\"\n      ],\n      \"properties\": {\n        \"dtype\": \"date\",\n        \"min\": \"2021-01-04 00:00:00\",\n        \"max\": \"2024-07-31 00:00:00\",\n        \"num_unique_values\": 899,\n        \"samples\": [\n          \"2022-04-28 00:00:00\",\n          \"2024-03-26 00:00:00\",\n          \"2023-12-18 00:00:00\"\n        ],\n        \"semantic_type\": \"\",\n        \"description\": \"\"\n      }\n    },\n    {\n      \"column\": [\n        \"Close\",\n        \"GOOG\"\n      ],\n      \"properties\": {\n        \"dtype\": \"number\",\n        \"std\": 22.929696002707008,\n        \"min\": 83.0964126586914,\n        \"max\": 191.96998596191406,\n        \"num_unique_values\": 879,\n        \"samples\": [\n          114.42453002929688,\n          145.75762939453125,\n          148.038818359375\n        ],\n        \"semantic_type\": \"\",\n        \"description\": \"\"\n      }\n    },\n    {\n      \"column\": [\n        \"High\",\n        \"GOOG\"\n      ],\n      \"properties\": {\n        \"dtype\": \"number\",\n        \"std\": 22.98421966409163,\n        \"min\": 86.14199249274185,\n        \"max\": 192.61765188536268,\n        \"num_unique_values\": 899,\n        \"samples\": [\n          119.87073843519462,\n          152.4778074943312,\n          137.72765117577347\n        ],\n        \"semantic_type\": \"\",\n        \"description\": \"\"\n      }\n    },\n    {\n      \"column\": [\n        \"Low\",\n        \"GOOG\"\n      ],\n      \"properties\": {\n        \"dtype\": \"number\",\n        \"std\": 22.871884275560717,\n        \"min\": 83.05660031387845,\n        \"max\": 189.9372837700379,\n        \"num_unique_values\": 899,\n        \"samples\": [\n          114.60109635829187,\n          150.31803876287827,\n          133.1393831198481\n        ],\n        \"semantic_type\": \"\",\n        \"description\": \"\"\n      }\n    },\n    {\n      \"column\": [\n        \"Open\",\n        \"GOOG\"\n      ],\n      \"properties\": {\n        \"dtype\": \"number\",\n        \"std\": 22.97366026996111,\n        \"min\": 84.73017148371405,\n        \"max\": 191.06324032448242,\n        \"num_unique_values\": 899,\n        \"samples\": [\n          116.56290421913432,\n          150.527055498697,\n          133.22895519525449\n        ],\n        \"semantic_type\": \"\",\n        \"description\": \"\"\n      }\n    },\n    {\n      \"column\": [\n        \"Volume\",\n        \"GOOG\"\n      ],\n      \"properties\": {\n        \"dtype\": \"number\",\n        \"std\": 10442699,\n        \"min\": 7409100,\n        \"max\": 97798600,\n        \"num_unique_values\": 893,\n        \"samples\": [\n          19517900,\n          17156200,\n          97798600\n        ],\n        \"semantic_type\": \"\",\n        \"description\": \"\"\n      }\n    }\n  ]\n}"
            }
          },
          "metadata": {},
          "execution_count": 8
        }
      ],
      "source": [
        "print(stock.shape)  #작업 확인용 출력\n",
        "stock.head() #작업 확인용 출력"
      ]
    },
    {
      "cell_type": "markdown",
      "metadata": {
        "id": "Bdp8HwsipfmH"
      },
      "source": [
        "# 2. 데이터 준비 및 탐색"
      ]
    },
    {
      "cell_type": "markdown",
      "metadata": {
        "id": "FEvQ_CDQpfmH"
      },
      "source": [
        "### - 분석할 컬럼(날짜, 종가) 추출"
      ]
    },
    {
      "cell_type": "code",
      "execution_count": null,
      "metadata": {
        "colab": {
          "base_uri": "https://localhost:8080/",
          "height": 237
        },
        "id": "ekDosKCkpfmH",
        "outputId": "8a01180e-603a-4cef-c255-e6db2a7db04f"
      },
      "outputs": [
        {
          "output_type": "execute_result",
          "data": {
            "text/plain": [
              "Ticker           GOOG\n",
              "Date                 \n",
              "2021-01-04  86.004646\n",
              "2021-01-05  86.635658\n",
              "2021-01-06  86.355476\n",
              "2021-01-07  88.941231\n",
              "2021-01-08  89.934532"
            ],
            "text/html": [
              "\n",
              "  <div id=\"df-587cbbe9-2653-4d96-b8d5-76568c83017b\" class=\"colab-df-container\">\n",
              "    <div>\n",
              "<style scoped>\n",
              "    .dataframe tbody tr th:only-of-type {\n",
              "        vertical-align: middle;\n",
              "    }\n",
              "\n",
              "    .dataframe tbody tr th {\n",
              "        vertical-align: top;\n",
              "    }\n",
              "\n",
              "    .dataframe thead th {\n",
              "        text-align: right;\n",
              "    }\n",
              "</style>\n",
              "<table border=\"1\" class=\"dataframe\">\n",
              "  <thead>\n",
              "    <tr style=\"text-align: right;\">\n",
              "      <th>Ticker</th>\n",
              "      <th>GOOG</th>\n",
              "    </tr>\n",
              "    <tr>\n",
              "      <th>Date</th>\n",
              "      <th></th>\n",
              "    </tr>\n",
              "  </thead>\n",
              "  <tbody>\n",
              "    <tr>\n",
              "      <th>2021-01-04</th>\n",
              "      <td>86.004646</td>\n",
              "    </tr>\n",
              "    <tr>\n",
              "      <th>2021-01-05</th>\n",
              "      <td>86.635658</td>\n",
              "    </tr>\n",
              "    <tr>\n",
              "      <th>2021-01-06</th>\n",
              "      <td>86.355476</td>\n",
              "    </tr>\n",
              "    <tr>\n",
              "      <th>2021-01-07</th>\n",
              "      <td>88.941231</td>\n",
              "    </tr>\n",
              "    <tr>\n",
              "      <th>2021-01-08</th>\n",
              "      <td>89.934532</td>\n",
              "    </tr>\n",
              "  </tbody>\n",
              "</table>\n",
              "</div>\n",
              "    <div class=\"colab-df-buttons\">\n",
              "\n",
              "  <div class=\"colab-df-container\">\n",
              "    <button class=\"colab-df-convert\" onclick=\"convertToInteractive('df-587cbbe9-2653-4d96-b8d5-76568c83017b')\"\n",
              "            title=\"Convert this dataframe to an interactive table.\"\n",
              "            style=\"display:none;\">\n",
              "\n",
              "  <svg xmlns=\"http://www.w3.org/2000/svg\" height=\"24px\" viewBox=\"0 -960 960 960\">\n",
              "    <path d=\"M120-120v-720h720v720H120Zm60-500h600v-160H180v160Zm220 220h160v-160H400v160Zm0 220h160v-160H400v160ZM180-400h160v-160H180v160Zm440 0h160v-160H620v160ZM180-180h160v-160H180v160Zm440 0h160v-160H620v160Z\"/>\n",
              "  </svg>\n",
              "    </button>\n",
              "\n",
              "  <style>\n",
              "    .colab-df-container {\n",
              "      display:flex;\n",
              "      gap: 12px;\n",
              "    }\n",
              "\n",
              "    .colab-df-convert {\n",
              "      background-color: #E8F0FE;\n",
              "      border: none;\n",
              "      border-radius: 50%;\n",
              "      cursor: pointer;\n",
              "      display: none;\n",
              "      fill: #1967D2;\n",
              "      height: 32px;\n",
              "      padding: 0 0 0 0;\n",
              "      width: 32px;\n",
              "    }\n",
              "\n",
              "    .colab-df-convert:hover {\n",
              "      background-color: #E2EBFA;\n",
              "      box-shadow: 0px 1px 2px rgba(60, 64, 67, 0.3), 0px 1px 3px 1px rgba(60, 64, 67, 0.15);\n",
              "      fill: #174EA6;\n",
              "    }\n",
              "\n",
              "    .colab-df-buttons div {\n",
              "      margin-bottom: 4px;\n",
              "    }\n",
              "\n",
              "    [theme=dark] .colab-df-convert {\n",
              "      background-color: #3B4455;\n",
              "      fill: #D2E3FC;\n",
              "    }\n",
              "\n",
              "    [theme=dark] .colab-df-convert:hover {\n",
              "      background-color: #434B5C;\n",
              "      box-shadow: 0px 1px 3px 1px rgba(0, 0, 0, 0.15);\n",
              "      filter: drop-shadow(0px 1px 2px rgba(0, 0, 0, 0.3));\n",
              "      fill: #FFFFFF;\n",
              "    }\n",
              "  </style>\n",
              "\n",
              "    <script>\n",
              "      const buttonEl =\n",
              "        document.querySelector('#df-587cbbe9-2653-4d96-b8d5-76568c83017b button.colab-df-convert');\n",
              "      buttonEl.style.display =\n",
              "        google.colab.kernel.accessAllowed ? 'block' : 'none';\n",
              "\n",
              "      async function convertToInteractive(key) {\n",
              "        const element = document.querySelector('#df-587cbbe9-2653-4d96-b8d5-76568c83017b');\n",
              "        const dataTable =\n",
              "          await google.colab.kernel.invokeFunction('convertToInteractive',\n",
              "                                                    [key], {});\n",
              "        if (!dataTable) return;\n",
              "\n",
              "        const docLinkHtml = 'Like what you see? Visit the ' +\n",
              "          '<a target=\"_blank\" href=https://colab.research.google.com/notebooks/data_table.ipynb>data table notebook</a>'\n",
              "          + ' to learn more about interactive tables.';\n",
              "        element.innerHTML = '';\n",
              "        dataTable['output_type'] = 'display_data';\n",
              "        await google.colab.output.renderOutput(dataTable, element);\n",
              "        const docLink = document.createElement('div');\n",
              "        docLink.innerHTML = docLinkHtml;\n",
              "        element.appendChild(docLink);\n",
              "      }\n",
              "    </script>\n",
              "  </div>\n",
              "\n",
              "\n",
              "    <div id=\"df-cbb9faa4-53c5-4b5b-b5c1-77d628c597f0\">\n",
              "      <button class=\"colab-df-quickchart\" onclick=\"quickchart('df-cbb9faa4-53c5-4b5b-b5c1-77d628c597f0')\"\n",
              "                title=\"Suggest charts\"\n",
              "                style=\"display:none;\">\n",
              "\n",
              "<svg xmlns=\"http://www.w3.org/2000/svg\" height=\"24px\"viewBox=\"0 0 24 24\"\n",
              "     width=\"24px\">\n",
              "    <g>\n",
              "        <path d=\"M19 3H5c-1.1 0-2 .9-2 2v14c0 1.1.9 2 2 2h14c1.1 0 2-.9 2-2V5c0-1.1-.9-2-2-2zM9 17H7v-7h2v7zm4 0h-2V7h2v10zm4 0h-2v-4h2v4z\"/>\n",
              "    </g>\n",
              "</svg>\n",
              "      </button>\n",
              "\n",
              "<style>\n",
              "  .colab-df-quickchart {\n",
              "      --bg-color: #E8F0FE;\n",
              "      --fill-color: #1967D2;\n",
              "      --hover-bg-color: #E2EBFA;\n",
              "      --hover-fill-color: #174EA6;\n",
              "      --disabled-fill-color: #AAA;\n",
              "      --disabled-bg-color: #DDD;\n",
              "  }\n",
              "\n",
              "  [theme=dark] .colab-df-quickchart {\n",
              "      --bg-color: #3B4455;\n",
              "      --fill-color: #D2E3FC;\n",
              "      --hover-bg-color: #434B5C;\n",
              "      --hover-fill-color: #FFFFFF;\n",
              "      --disabled-bg-color: #3B4455;\n",
              "      --disabled-fill-color: #666;\n",
              "  }\n",
              "\n",
              "  .colab-df-quickchart {\n",
              "    background-color: var(--bg-color);\n",
              "    border: none;\n",
              "    border-radius: 50%;\n",
              "    cursor: pointer;\n",
              "    display: none;\n",
              "    fill: var(--fill-color);\n",
              "    height: 32px;\n",
              "    padding: 0;\n",
              "    width: 32px;\n",
              "  }\n",
              "\n",
              "  .colab-df-quickchart:hover {\n",
              "    background-color: var(--hover-bg-color);\n",
              "    box-shadow: 0 1px 2px rgba(60, 64, 67, 0.3), 0 1px 3px 1px rgba(60, 64, 67, 0.15);\n",
              "    fill: var(--button-hover-fill-color);\n",
              "  }\n",
              "\n",
              "  .colab-df-quickchart-complete:disabled,\n",
              "  .colab-df-quickchart-complete:disabled:hover {\n",
              "    background-color: var(--disabled-bg-color);\n",
              "    fill: var(--disabled-fill-color);\n",
              "    box-shadow: none;\n",
              "  }\n",
              "\n",
              "  .colab-df-spinner {\n",
              "    border: 2px solid var(--fill-color);\n",
              "    border-color: transparent;\n",
              "    border-bottom-color: var(--fill-color);\n",
              "    animation:\n",
              "      spin 1s steps(1) infinite;\n",
              "  }\n",
              "\n",
              "  @keyframes spin {\n",
              "    0% {\n",
              "      border-color: transparent;\n",
              "      border-bottom-color: var(--fill-color);\n",
              "      border-left-color: var(--fill-color);\n",
              "    }\n",
              "    20% {\n",
              "      border-color: transparent;\n",
              "      border-left-color: var(--fill-color);\n",
              "      border-top-color: var(--fill-color);\n",
              "    }\n",
              "    30% {\n",
              "      border-color: transparent;\n",
              "      border-left-color: var(--fill-color);\n",
              "      border-top-color: var(--fill-color);\n",
              "      border-right-color: var(--fill-color);\n",
              "    }\n",
              "    40% {\n",
              "      border-color: transparent;\n",
              "      border-right-color: var(--fill-color);\n",
              "      border-top-color: var(--fill-color);\n",
              "    }\n",
              "    60% {\n",
              "      border-color: transparent;\n",
              "      border-right-color: var(--fill-color);\n",
              "    }\n",
              "    80% {\n",
              "      border-color: transparent;\n",
              "      border-right-color: var(--fill-color);\n",
              "      border-bottom-color: var(--fill-color);\n",
              "    }\n",
              "    90% {\n",
              "      border-color: transparent;\n",
              "      border-bottom-color: var(--fill-color);\n",
              "    }\n",
              "  }\n",
              "</style>\n",
              "\n",
              "      <script>\n",
              "        async function quickchart(key) {\n",
              "          const quickchartButtonEl =\n",
              "            document.querySelector('#' + key + ' button');\n",
              "          quickchartButtonEl.disabled = true;  // To prevent multiple clicks.\n",
              "          quickchartButtonEl.classList.add('colab-df-spinner');\n",
              "          try {\n",
              "            const charts = await google.colab.kernel.invokeFunction(\n",
              "                'suggestCharts', [key], {});\n",
              "          } catch (error) {\n",
              "            console.error('Error during call to suggestCharts:', error);\n",
              "          }\n",
              "          quickchartButtonEl.classList.remove('colab-df-spinner');\n",
              "          quickchartButtonEl.classList.add('colab-df-quickchart-complete');\n",
              "        }\n",
              "        (() => {\n",
              "          let quickchartButtonEl =\n",
              "            document.querySelector('#df-cbb9faa4-53c5-4b5b-b5c1-77d628c597f0 button');\n",
              "          quickchartButtonEl.style.display =\n",
              "            google.colab.kernel.accessAllowed ? 'block' : 'none';\n",
              "        })();\n",
              "      </script>\n",
              "    </div>\n",
              "\n",
              "    </div>\n",
              "  </div>\n"
            ],
            "application/vnd.google.colaboratory.intrinsic+json": {
              "type": "dataframe",
              "variable_name": "stock2",
              "summary": "{\n  \"name\": \"stock2\",\n  \"rows\": 899,\n  \"fields\": [\n    {\n      \"column\": \"Date\",\n      \"properties\": {\n        \"dtype\": \"date\",\n        \"min\": \"2021-01-04 00:00:00\",\n        \"max\": \"2024-07-31 00:00:00\",\n        \"num_unique_values\": 899,\n        \"samples\": [\n          \"2022-04-28 00:00:00\",\n          \"2024-03-26 00:00:00\",\n          \"2023-12-18 00:00:00\"\n        ],\n        \"semantic_type\": \"\",\n        \"description\": \"\"\n      }\n    },\n    {\n      \"column\": \"GOOG\",\n      \"properties\": {\n        \"dtype\": \"number\",\n        \"std\": 22.929696002707008,\n        \"min\": 83.0964126586914,\n        \"max\": 191.96998596191406,\n        \"num_unique_values\": 879,\n        \"samples\": [\n          114.42453002929688,\n          145.75762939453125,\n          148.038818359375\n        ],\n        \"semantic_type\": \"\",\n        \"description\": \"\"\n      }\n    }\n  ]\n}"
            }
          },
          "metadata": {},
          "execution_count": 6
        }
      ],
      "source": [
        "stock2 = pd.DataFrame(stock['Close'])\n",
        "\n",
        "stock2.head() #작업 확인용 출력"
      ]
    },
    {
      "cell_type": "markdown",
      "metadata": {
        "id": "FEyBtTMbpfmI"
      },
      "source": [
        "#### - 파일 저장"
      ]
    },
    {
      "cell_type": "code",
      "execution_count": null,
      "metadata": {
        "id": "ks8vuQUnpfmI"
      },
      "outputs": [],
      "source": [
        "# 다운로드한 주가 데이터를 파일 저장\n",
        "stock2.to_csv('./'+name+'.csv')"
      ]
    },
    {
      "cell_type": "markdown",
      "metadata": {
        "id": "u8OiZ5nVpfmI"
      },
      "source": [
        "### - 데이터 정규화"
      ]
    },
    {
      "cell_type": "code",
      "execution_count": null,
      "metadata": {
        "id": "24z8TryYgx4d",
        "colab": {
          "base_uri": "https://localhost:8080/"
        },
        "outputId": "230f1a2f-9f5a-40c4-fd21-013e60120d3d"
      },
      "outputs": [
        {
          "output_type": "stream",
          "name": "stdout",
          "text": [
            "[86.0046463]\n"
          ]
        }
      ],
      "source": [
        "stock2.reset_index()\n",
        "stock_values = stock2.values\n",
        "\n",
        "print(stock_values[0]) #작업 확인용 출력"
      ]
    },
    {
      "cell_type": "code",
      "source": [
        "stock_values"
      ],
      "metadata": {
        "id": "HN5uoJl54WP8"
      },
      "execution_count": null,
      "outputs": []
    },
    {
      "cell_type": "markdown",
      "metadata": {
        "id": "EISI9In0pfmI"
      },
      "source": [
        "### - 0~1 범위로 스케일링"
      ]
    },
    {
      "cell_type": "code",
      "execution_count": null,
      "metadata": {
        "id": "AHmcVkilpfmI"
      },
      "outputs": [],
      "source": [
        "from sklearn.preprocessing import MinMaxScaler"
      ]
    },
    {
      "cell_type": "code",
      "execution_count": null,
      "metadata": {
        "colab": {
          "base_uri": "https://localhost:8080/"
        },
        "id": "6wNWbEetpfmI",
        "outputId": "c82fdc79-c844-4456-a512-eeb16c449ba3"
      },
      "outputs": [
        {
          "output_type": "execute_result",
          "data": {
            "text/plain": [
              "array([0.02671203])"
            ]
          },
          "metadata": {},
          "execution_count": 12
        }
      ],
      "source": [
        "scaler = MinMaxScaler(feature_range=(0,1))\n",
        "stock_values_scaled=scaler.fit_transform(stock_values)\n",
        "\n",
        "stock_values_scaled[0] #작업 확인용 출력"
      ]
    },
    {
      "cell_type": "markdown",
      "metadata": {
        "id": "pBn7dlINpfmI"
      },
      "source": [
        "# 3. 분석 모델 구축"
      ]
    },
    {
      "cell_type": "markdown",
      "metadata": {
        "id": "FoU3jnfjpfmI"
      },
      "source": [
        "## 3-1. 주가 분석 모델의 학습용 데이터 준비"
      ]
    },
    {
      "cell_type": "code",
      "execution_count": null,
      "metadata": {
        "id": "KFTYvSh8gzQ1",
        "colab": {
          "base_uri": "https://localhost:8080/"
        },
        "outputId": "b3bbccb8-c177-4535-cca7-26aaa11eeab3"
      },
      "outputs": [
        {
          "output_type": "stream",
          "name": "stdout",
          "text": [
            "719 180\n"
          ]
        }
      ],
      "source": [
        "n_train = int(len(stock_values)*0.8)  #학습용 데이터 갯수\n",
        "n_test = len(stock_values) - n_train  #평가용 데이터 갯수\n",
        "\n",
        "print(n_train, n_test) #작업 확인용 출력"
      ]
    },
    {
      "cell_type": "code",
      "execution_count": null,
      "metadata": {
        "scrolled": true,
        "colab": {
          "base_uri": "https://localhost:8080/"
        },
        "id": "8HNGJj5ZpfmI",
        "outputId": "c465f5b4-0a81-4e9f-d416-2c97a80579d3"
      },
      "outputs": [
        {
          "output_type": "execute_result",
          "data": {
            "text/plain": [
              "array([0.02671203, 0.03250785, 0.02993439, 0.05368445, 0.06280789,\n",
              "       0.04430047, 0.03508124, 0.03866933, 0.03216959, 0.03034587,\n",
              "       0.05533445, 0.0992329 , 0.10122109, 0.10570054, 0.10494639,\n",
              "       0.11310075, 0.07358582, 0.08835883, 0.07584842, 0.10583761])"
            ]
          },
          "metadata": {},
          "execution_count": 14
        }
      ],
      "source": [
        "X_train,Y_train=[],[]\n",
        "\n",
        "#20일 구간의 주가를 x 값으로하고, 그 다음날 값을 y 값으로 정리하기\n",
        "for i in range(20, n_train):\n",
        "  X_train.append(stock_values_scaled[i-20:i,0])\n",
        "  Y_train.append(stock_values_scaled[i,0])\n",
        "\n",
        "X_train[0] #작업 확인용 출력"
      ]
    },
    {
      "cell_type": "code",
      "source": [
        "Y_train[0] #작업 확인용 출력"
      ],
      "metadata": {
        "colab": {
          "base_uri": "https://localhost:8080/"
        },
        "id": "lMcAbFyn4t4e",
        "outputId": "190d80ab-9299-4b4a-8c3f-22b3c36a749c"
      },
      "execution_count": null,
      "outputs": [
        {
          "output_type": "execute_result",
          "data": {
            "text/plain": [
              "np.float64(0.1177950505095311)"
            ]
          },
          "metadata": {},
          "execution_count": 15
        }
      ]
    },
    {
      "cell_type": "markdown",
      "metadata": {
        "id": "3hy2ZntepfmI"
      },
      "source": [
        "### - LSTM 모델의 입력층의 구조로 변형_reshape()"
      ]
    },
    {
      "cell_type": "code",
      "execution_count": null,
      "metadata": {
        "scrolled": true,
        "colab": {
          "base_uri": "https://localhost:8080/"
        },
        "id": "sHyz6S-ypfmJ",
        "outputId": "f4427f54-91b5-46d9-a034-e88f342436ad"
      },
      "outputs": [
        {
          "output_type": "stream",
          "name": "stdout",
          "text": [
            "(699, 20, 1)\n"
          ]
        },
        {
          "output_type": "execute_result",
          "data": {
            "text/plain": [
              "array([[0.02671203],\n",
              "       [0.03250785],\n",
              "       [0.02993439],\n",
              "       [0.05368445],\n",
              "       [0.06280789],\n",
              "       [0.04430047],\n",
              "       [0.03508124],\n",
              "       [0.03866933],\n",
              "       [0.03216959],\n",
              "       [0.03034587],\n",
              "       [0.05533445],\n",
              "       [0.0992329 ],\n",
              "       [0.10122109],\n",
              "       [0.10570054],\n",
              "       [0.10494639],\n",
              "       [0.11310075],\n",
              "       [0.07358582],\n",
              "       [0.08835883],\n",
              "       [0.07584842],\n",
              "       [0.10583761]])"
            ]
          },
          "metadata": {},
          "execution_count": 16
        }
      ],
      "source": [
        "X_train1, Y_train1 = np.array(X_train), np.array(Y_train)\n",
        "X_train2 = np.reshape(X_train1, (X_train1.shape[0],X_train1.shape[1],1))\n",
        "\n",
        "print(X_train2.shape) #작업 확인용 출력\n",
        "X_train2[0] #작업 확인용 출력"
      ]
    },
    {
      "cell_type": "markdown",
      "metadata": {
        "id": "Bw95XPPupfmJ"
      },
      "source": [
        "## 3-2. LSTM 모델 구축"
      ]
    },
    {
      "cell_type": "code",
      "execution_count": null,
      "metadata": {
        "id": "iNSB_hAApfmJ"
      },
      "outputs": [],
      "source": [
        "from tensorflow.keras import Sequential\n",
        "from tensorflow.keras.layers import Dense, LSTM, Dropout"
      ]
    },
    {
      "cell_type": "markdown",
      "metadata": {
        "id": "wiWxIjqRpfmJ"
      },
      "source": [
        "### - LSTM 모델 구성"
      ]
    },
    {
      "cell_type": "code",
      "execution_count": null,
      "metadata": {
        "id": "d49nIq2Sg7Cv",
        "colab": {
          "base_uri": "https://localhost:8080/"
        },
        "outputId": "f77c2369-1f21-432e-a97e-4a3570005318"
      },
      "outputs": [
        {
          "output_type": "stream",
          "name": "stderr",
          "text": [
            "/usr/local/lib/python3.11/dist-packages/keras/src/layers/rnn/rnn.py:200: UserWarning: Do not pass an `input_shape`/`input_dim` argument to a layer. When using Sequential models, prefer using an `Input(shape)` object as the first layer in the model instead.\n",
            "  super().__init__(**kwargs)\n"
          ]
        }
      ],
      "source": [
        "lstm_stock = Sequential()\n",
        "\n",
        "lstm_stock.add(LSTM(units=20, return_sequences=True, input_shape=(X_train2.shape[1],1)))\n",
        "lstm_stock.add(LSTM(units=20, return_sequences=False))\n",
        "lstm_stock.add(Dense(1))"
      ]
    },
    {
      "cell_type": "markdown",
      "metadata": {
        "id": "bhoUdx0ipfmJ"
      },
      "source": [
        "### - LSTM 모델 학습"
      ]
    },
    {
      "cell_type": "code",
      "execution_count": null,
      "metadata": {
        "colab": {
          "base_uri": "https://localhost:8080/"
        },
        "id": "QbzEuUNGpfmJ",
        "outputId": "ab6121be-22b3-4025-f526-98d9569410a5"
      },
      "outputs": [
        {
          "output_type": "stream",
          "name": "stdout",
          "text": [
            "Epoch 1/10\n",
            "699/699 - 6s - 9ms/step - loss: 0.0051\n",
            "Epoch 2/10\n",
            "699/699 - 3s - 5ms/step - loss: 0.0019\n",
            "Epoch 3/10\n",
            "699/699 - 4s - 5ms/step - loss: 0.0014\n",
            "Epoch 4/10\n",
            "699/699 - 4s - 5ms/step - loss: 0.0011\n",
            "Epoch 5/10\n",
            "699/699 - 5s - 7ms/step - loss: 0.0010\n",
            "Epoch 6/10\n",
            "699/699 - 5s - 7ms/step - loss: 8.2713e-04\n",
            "Epoch 7/10\n",
            "699/699 - 5s - 7ms/step - loss: 7.1630e-04\n",
            "Epoch 8/10\n",
            "699/699 - 3s - 5ms/step - loss: 6.8331e-04\n",
            "Epoch 9/10\n",
            "699/699 - 6s - 8ms/step - loss: 6.8316e-04\n",
            "Epoch 10/10\n",
            "699/699 - 3s - 5ms/step - loss: 6.1991e-04\n"
          ]
        },
        {
          "output_type": "execute_result",
          "data": {
            "text/plain": [
              "<keras.src.callbacks.history.History at 0x794a4c1f40d0>"
            ]
          },
          "metadata": {},
          "execution_count": 19
        }
      ],
      "source": [
        "#학습 파라미터  설정\n",
        "lstm_stock.compile(loss='mean_squared_error', optimizer='adam')\n",
        "\n",
        "#학습 수행\n",
        "lstm_stock.fit(X_train2, Y_train1, epochs=10, batch_size=1, verbose=2)"
      ]
    },
    {
      "cell_type": "markdown",
      "metadata": {
        "id": "fvzz8HBUpfmJ"
      },
      "source": [
        "## 3-3. 평가 데이터로 주가 예측"
      ]
    },
    {
      "cell_type": "markdown",
      "metadata": {
        "id": "fKuFg6wkpfmJ"
      },
      "source": [
        "### - 평가용 데이터 만들기"
      ]
    },
    {
      "cell_type": "code",
      "execution_count": null,
      "metadata": {
        "id": "KQjokJYeg_Js",
        "colab": {
          "base_uri": "https://localhost:8080/"
        },
        "outputId": "5907ab9c-9b0f-4675-8bff-5fecf5f3e2fa"
      },
      "outputs": [
        {
          "output_type": "execute_result",
          "data": {
            "text/plain": [
              "array([0.5036144 , 0.52107503, 0.52564579, 0.51001358, 0.50727109,\n",
              "       0.4867937 , 0.49739798, 0.51769261, 0.39473712, 0.36520959,\n",
              "       0.36484393, 0.38632677, 0.38221311, 0.40296464, 0.41219775,\n",
              "       0.4285612 , 0.43843431, 0.44711879, 0.45498073, 0.44062838])"
            ]
          },
          "metadata": {},
          "execution_count": 20
        }
      ],
      "source": [
        "stock_test = stock_values_scaled[n_train-20:]\n",
        "X_test = []\n",
        "\n",
        "for i in range(20, len(stock_test)):\n",
        "  X_test.append(stock_test[i-20:i,0])\n",
        "\n",
        "\n",
        "X_test[0] #작업 확인용 출력"
      ]
    },
    {
      "cell_type": "markdown",
      "metadata": {
        "id": "ThB4TGJzpfmK"
      },
      "source": [
        "### - LSTM 모델의 입력층의 구조로 변형_reshape()"
      ]
    },
    {
      "cell_type": "code",
      "execution_count": null,
      "metadata": {
        "colab": {
          "base_uri": "https://localhost:8080/"
        },
        "id": "6KOd5xT_pfmK",
        "outputId": "dd9d4dea-d39a-4018-9596-8a2f28bdf9a5"
      },
      "outputs": [
        {
          "output_type": "stream",
          "name": "stdout",
          "text": [
            "(180, 20, 1)\n",
            "[[0.5036144 ]\n",
            " [0.52107503]\n",
            " [0.52564579]\n",
            " [0.51001358]\n",
            " [0.50727109]\n",
            " [0.4867937 ]\n",
            " [0.49739798]\n",
            " [0.51769261]\n",
            " [0.39473712]\n",
            " [0.36520959]\n",
            " [0.36484393]\n",
            " [0.38632677]\n",
            " [0.38221311]\n",
            " [0.40296464]\n",
            " [0.41219775]\n",
            " [0.4285612 ]\n",
            " [0.43843431]\n",
            " [0.44711879]\n",
            " [0.45498073]\n",
            " [0.44062838]]\n"
          ]
        }
      ],
      "source": [
        "X_test = np.array(X_test)\n",
        "X_test = np.reshape(X_test,(X_test.shape[0],X_test.shape[1],1))\n",
        "\n",
        "print(X_test.shape)  #작업 확인용 출력\n",
        "print(X_test[0])"
      ]
    },
    {
      "cell_type": "markdown",
      "metadata": {
        "id": "1zNSXUvYpfmK"
      },
      "source": [
        "### - 모델 예측 수행"
      ]
    },
    {
      "cell_type": "code",
      "execution_count": null,
      "metadata": {
        "colab": {
          "base_uri": "https://localhost:8080/"
        },
        "id": "FDBHybxOpfmK",
        "outputId": "20311b7f-a166-4c7c-945f-7d76917d309b"
      },
      "outputs": [
        {
          "output_type": "stream",
          "name": "stdout",
          "text": [
            "\u001b[1m6/6\u001b[0m \u001b[32m━━━━━━━━━━━━━━━━━━━━\u001b[0m\u001b[37m\u001b[0m \u001b[1m0s\u001b[0m 39ms/step\n"
          ]
        },
        {
          "output_type": "execute_result",
          "data": {
            "text/plain": [
              "array([0.4439942], dtype=float32)"
            ]
          },
          "metadata": {},
          "execution_count": 22
        }
      ],
      "source": [
        "predicted_value = lstm_stock.predict(X_test)\n",
        "\n",
        "predicted_value[0] #작업 확인용 출력"
      ]
    },
    {
      "cell_type": "markdown",
      "metadata": {
        "id": "xM6zoYMHpfmK"
      },
      "source": [
        "# 4. 결과 분석 및 시각화"
      ]
    },
    {
      "cell_type": "markdown",
      "metadata": {
        "id": "6l_hM1mvpfmK"
      },
      "source": [
        "##### - 예측값을 스케일링 이전 값(원래 주가)으로 되돌림."
      ]
    },
    {
      "cell_type": "code",
      "execution_count": null,
      "metadata": {
        "colab": {
          "base_uri": "https://localhost:8080/"
        },
        "id": "21jZENw_pfmP",
        "outputId": "7b9a8039-3ded-4ba3-f543-ad6e7eba99eb"
      },
      "outputs": [
        {
          "output_type": "execute_result",
          "data": {
            "text/plain": [
              "array([131.43565], dtype=float32)"
            ]
          },
          "metadata": {},
          "execution_count": 23
        }
      ],
      "source": [
        "predicted_value = scaler.inverse_transform(predicted_value)\n",
        "\n",
        "predicted_value[0] #작업 확인용 출력"
      ]
    },
    {
      "cell_type": "markdown",
      "metadata": {
        "id": "lrayzUwEpfmP"
      },
      "source": [
        "### - 그래프에 사용할 데이터 리스트 정리하기"
      ]
    },
    {
      "cell_type": "code",
      "execution_count": null,
      "metadata": {
        "id": "epIZ1dorh5k7",
        "colab": {
          "base_uri": "https://localhost:8080/"
        },
        "outputId": "69c6b65a-ca9a-4397-da50-a473d8005ccf"
      },
      "outputs": [
        {
          "output_type": "stream",
          "name": "stderr",
          "text": [
            "<ipython-input-24-181e750172c1>:3: SettingWithCopyWarning: \n",
            "A value is trying to be set on a copy of a slice from a DataFrame.\n",
            "Try using .loc[row_indexer,col_indexer] = value instead\n",
            "\n",
            "See the caveats in the documentation: https://pandas.pydata.org/pandas-docs/stable/user_guide/indexing.html#returning-a-view-versus-a-copy\n",
            "  stock_test_vis['Predictions'] = predicted_value\n"
          ]
        }
      ],
      "source": [
        "stock_train_vis = stock[:n_train]\n",
        "stock_test_vis = stock[n_train:]\n",
        "stock_test_vis['Predictions'] = predicted_value"
      ]
    },
    {
      "cell_type": "code",
      "execution_count": null,
      "metadata": {
        "id": "HmNhapnapfmP"
      },
      "outputs": [],
      "source": [
        "import matplotlib.pyplot as plt"
      ]
    },
    {
      "cell_type": "code",
      "execution_count": null,
      "metadata": {
        "colab": {
          "base_uri": "https://localhost:8080/",
          "height": 652
        },
        "id": "tybLU6rgpfmP",
        "outputId": "53e9fcdd-3849-49ae-fa1d-f945adb10a62"
      },
      "outputs": [
        {
          "output_type": "execute_result",
          "data": {
            "text/plain": [
              "Text(0.5, 1.0, 'GOOG (2021-01-01 ~ 2024-08-01 )')"
            ]
          },
          "metadata": {},
          "execution_count": 26
        },
        {
          "output_type": "display_data",
          "data": {
            "text/plain": [
              "<Figure size 1200x800 with 1 Axes>"
            ],
            "image/png": "[encoded data removed]"
          },
          "metadata": {}
        }
      ],
      "source": [
        "plt.figure(figsize = (12,8))\n",
        "plt.plot(stock_train_vis['Close'], label = 'Train')\n",
        "plt.plot(stock_test_vis['Close'], label = 'Test')\n",
        "plt.plot(stock_test_vis['Predictions'], label = 'Prediction')\n",
        "plt.legend()\n",
        "plt.title(name + ' (' + start_day + ' ~ ' + end_day + ' )')"
      ]
    }
  ],
  "metadata": {
    "colab": {
      "provenance": [],
      "gpuType": "T4"
    },
    "kernelspec": {
      "display_name": "Python 3",
      "name": "python3"
    },
    "language_info": {
      "codemirror_mode": {
        "name": "ipython",
        "version": 3
      },
      "file_extension": ".py",
      "mimetype": "text/x-python",
      "name": "python",
      "nbconvert_exporter": "python",
      "pygments_lexer": "ipython3",
      "version": "3.11.5"
    },
    "accelerator": "GPU"
  },
  "nbformat": 4,
  "nbformat_minor": 0
}